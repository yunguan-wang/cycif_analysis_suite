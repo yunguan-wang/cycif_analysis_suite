{
 "cells": [
  {
   "cell_type": "code",
   "execution_count": 2,
   "metadata": {},
   "outputs": [],
   "source": [
    "import pandas as pd\n",
    "import numpy as np\n",
    "import os\n",
    "from matplotlib import pyplot as plt\n",
    "import sys\n",
    "from cycifsuite.plate_based_analysis import per_well_analysis\n",
    "from cycifsuite.get_data import read_synapse_file\n",
    "from cycifsuite.combat import combat\n",
    "%load_ext autoreload\n",
    "%autoreload 2"
   ]
  },
  {
   "cell_type": "code",
   "execution_count": 6,
   "metadata": {},
   "outputs": [
    {
     "name": "stdout",
     "output_type": "stream",
     "text": [
      "Welcome, Yunguan Wang!\n",
      "\n",
      "Welcome, Yunguan Wang!\n",
      "\n"
     ]
    },
    {
     "name": "stderr",
     "output_type": "stream",
     "text": [
      "found 3 batches\n",
      "found 0 numerical covariates...\n",
      "found 0 categorical variables:\t\n",
      "Standardizing Data across genes.\n",
      "Fitting L/S model and finding priors\n",
      "Finding parametric adjustments\n"
     ]
    },
    {
     "name": "stdout",
     "output_type": "stream",
     "text": [
      "Adjusting data\n"
     ]
    }
   ],
   "source": [
    "pooled_expr_data = pd.read_csv(read_synapse_file('syn16927862'),index_col=0)\n",
    "pooled_metadata = pd.read_csv(read_synapse_file('syn16927738'),index_col=0)\n",
    "pooled_metadata = pooled_metadata[pooled_metadata.labeled_as_lost=='No']\n",
    "pooled_expr_data = pooled_expr_data.reindex(pooled_metadata.index).dropna(axis=1)\n",
    "pooled_expr_data.fillna(0,inplace=True)\n",
    "pooled_expr_data = combat(pooled_expr_data.transpose(), pooled_metadata.replicate).transpose()\n",
    "pooled_expr_data = pooled_expr_data[sorted(pooled_expr_data.columns)]"
   ]
  },
  {
   "cell_type": "markdown",
   "metadata": {},
   "source": [
    "# PBS as control\n",
    "## PBS wells on each plate were used as control"
   ]
  },
  {
   "cell_type": "code",
   "execution_count": 4,
   "metadata": {},
   "outputs": [
    {
     "name": "stderr",
     "output_type": "stream",
     "text": [
      "[WARNING] C:\\WinPython\\python-3.6.5.amd64\\lib\\site-packages\\scipy\\stats\\stats.py:1713: FutureWarning: Using a non-tuple sequence for multidimensional indexing is deprecated; use `arr[tuple(seq)]` instead of `arr[seq]`. In the future this will be interpreted as an array index, `arr[np.array(seq)]`, which will result either in an error or a different result.\n",
      "  return np.add.reduce(sorted[indexer] * weights, axis=axis) / sumval\n",
      "\n",
      "[WARNING] C:\\WinPython\\python-3.6.5.amd64\\lib\\site-packages\\seaborn\\axisgrid.py:715: UserWarning: Using the swarmplot function without specifying `order` is likely to produce an incorrect plot.\n",
      "  warnings.warn(warning)\n",
      "\n"
     ]
    }
   ],
   "source": [
    "control_name = 'PBS'\n",
    "output_prefix = ''\n",
    "output_folder = 'd:/data/MCF10A 090718 data/well_based_analysis/pbs_as_control'\n",
    "pwa = per_well_analysis(pooled_expr_data,pooled_metadata[pooled_metadata.ligand!='ctrl'],batch_col='Plate',\n",
    "                        drug_col='ligand',dose_col='dose',time_col='time',output_path=output_folder, control_name = control_name, output_prefix=output_prefix)\n",
    "pwa.make_contrast(batch_wise=True)\n",
    "pwa.descriptive_analysis()\n",
    "pwa.contrast_based_distance()\n",
    "pwa.contrast_based_differential_analysis()\n",
    "pwa.plot_dist_violinplot('ligand','time')\n",
    "pwa.make_fc_heamtap_matrix(['ligand','time','Batch'],output_fname=output_prefix)\n",
    "pwa.make_heatmaps(style='simple')\n",
    "pwa.make_dotted_heatmap()\n",
    "pwa.make_swarm_plot()"
   ]
  },
  {
   "cell_type": "markdown",
   "metadata": {},
   "source": [
    "# T0 as control\n",
    "## T0 of each replicate were used as control, this will require running bach normalization"
   ]
  },
  {
   "cell_type": "code",
   "execution_count": 9,
   "metadata": {},
   "outputs": [
    {
     "name": "stderr",
     "output_type": "stream",
     "text": [
      "[WARNING] C:\\WinPython\\python-3.6.5.amd64\\lib\\site-packages\\scipy\\stats\\stats.py:1713: FutureWarning: Using a non-tuple sequence for multidimensional indexing is deprecated; use `arr[tuple(seq)]` instead of `arr[seq]`. In the future this will be interpreted as an array index, `arr[np.array(seq)]`, which will result either in an error or a different result.\n",
      "  return np.add.reduce(sorted[indexer] * weights, axis=axis) / sumval\n",
      "\n",
      "[WARNING] C:\\WinPython\\python-3.6.5.amd64\\lib\\site-packages\\seaborn\\axisgrid.py:715: UserWarning: Using the swarmplot function without specifying `order` is likely to produce an incorrect plot.\n",
      "  warnings.warn(warning)\n",
      "\n"
     ]
    }
   ],
   "source": [
    "control_name = 'ctrl'\n",
    "output_prefix = ''\n",
    "output_folder = 'd:/data/MCF10A 090718 data/well_based_analysis/t0_as_control'\n",
    "pwa = per_well_analysis(pooled_expr_data,pooled_metadata,batch_col='replicate',output_path=output_folder, \n",
    "                        drug_col='ligand',dose_col='dose',time_col='time',control_name = control_name, output_prefix=output_prefix)\n",
    "pwa.make_contrast(batch_wise=True)\n",
    "pwa.descriptive_analysis()\n",
    "pwa.contrast_based_distance()\n",
    "pwa.contrast_based_differential_analysis()\n",
    "pwa.plot_dist_violinplot('ligand','time')\n",
    "pwa.make_fc_heamtap_matrix(['ligand','time','Batch'],output_fname=output_prefix)\n",
    "pwa.make_heatmaps(style='simple')\n",
    "pwa.make_dotted_heatmap()\n",
    "pwa.make_swarm_plot()"
   ]
  },
  {
   "cell_type": "markdown",
   "metadata": {},
   "source": [
    "## EGF_1h as control"
   ]
  },
  {
   "cell_type": "code",
   "execution_count": 10,
   "metadata": {},
   "source": [
    "pooled_metadata.loc[pooled_metadata.condition=='EGF_1','ligand'] = 'EGF_1'\n",
    "control_name = 'EGF_1'\n",
    "output_prefix = ''\n",
    "output_folder = 'd:/data/MCF10A 090718 data/well_based_analysis/egf_as_control'\n",
    "pwa = per_well_analysis(pooled_expr_data,pooled_metadata[pooled_metadata.ligand!='ctrl'],batch_col='replicate',output_path=output_folder, \n",
    "                        drug_col='ligand',dose_col='dose',time_col='time',control_name = control_name, output_prefix=output_prefix)\n",
    "pwa.make_contrast(batch_wise=True)\n",
    "# pwa.descriptive_analysis()\n",
    "pwa.contrast_based_distance()\n",
    "pwa.contrast_based_differential_analysis()\n",
    "pwa.plot_dist_violinplot('ligand','time')\n",
    "pwa.make_fc_heamtap_matrix(['ligand','time','Batch'],output_fname=output_prefix)\n",
    "pwa.make_heatmaps(style='simple')\n",
    "pwa.make_dotted_heatmap()\n",
    "pwa.make_swarm_plot()"
   ]
  }
 ],
 "metadata": {
  "kernelspec": {
   "display_name": "Python 3",
   "language": "python",
   "name": "python3"
  },
  "language_info": {
   "codemirror_mode": {
    "name": "ipython",
    "version": 3
   },
   "file_extension": ".py",
   "mimetype": "text/x-python",
   "name": "python",
   "nbconvert_exporter": "python",
   "pygments_lexer": "ipython3",
   "version": "3.6.5"
  }
 },
 "nbformat": 4,
 "nbformat_minor": 2
}
