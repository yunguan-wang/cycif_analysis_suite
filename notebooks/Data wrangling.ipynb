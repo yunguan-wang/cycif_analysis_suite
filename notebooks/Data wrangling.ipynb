{
 "cells": [
  {
   "cell_type": "code",
   "execution_count": 8,
   "metadata": {},
   "outputs": [],
   "source": [
    "import pandas as pd\n",
    "import os\n",
    "import random\n",
    "import numpy as np\n",
    "from sklearn.preprocessing import scale"
   ]
  },
  {
   "cell_type": "markdown",
   "metadata": {},
   "source": [
    "## Pooling 18 plates into one big file"
   ]
  },
  {
   "cell_type": "code",
   "execution_count": null,
   "metadata": {},
   "outputs": [],
   "source": [
    "path = 'N:/HiTS Projects and Data/Personal/Jake/mcf10a/raw_data_selected_features'\n",
    "os.chdir(path)\n",
    "list_fn = sorted(os.listdir())\n",
    "pooled_expr_data = pd.DataFrame()\n",
    "for fn in list_fn:\n",
    "    _df = pd.read_hdf(fn)\n",
    "    pooled_expr_data = pooled_expr_data.append(_df)\n",
    "pooled_expr_data.to_hdf('pooled_expr_data_5_features.hdf','pooled')"
   ]
  },
  {
   "cell_type": "markdown",
   "metadata": {},
   "source": [
    "## Prepare log2 transformed intensity data\n",
    "### This is used for well-based differential analysis and binned data PCA"
   ]
  },
  {
   "cell_type": "code",
   "execution_count": null,
   "metadata": {},
   "outputs": [],
   "source": [
    "pooled_expr_data = pd.read_hdf('pooled_expr_data_5_features.hdf')\n",
    "feature_meta = pd.read_json('../feature_metadata.json').transpose()\n",
    "valid_cols = feature_meta[(feature_meta.feature_cat=='int') & \n",
    "                          (feature_meta.sublocation.isin(['nuc','cytoplasm']))&\n",
    "                          (feature_meta.feature_type=='mean')&\n",
    "                         (feature_meta.marker!='none')&\n",
    "                         (feature_meta.dye!='none')]\n",
    "valid_cols = valid_cols[~((valid_cols.marker=='dna')&(valid_cols.order!='4'))]\n",
    "valid_cols = (valid_cols.sublocation + '_' + valid_cols.marker)\n",
    "int_expr_data = pooled_expr_data[valid_cols.index].copy()\n",
    "int_expr_data.columns = valid_cols.values\n",
    "corrected_values = int_expr_data.fillna(0).values\n",
    "corrected_values[corrected_values<1]=1\n",
    "int_expr_data.loc[:,:] = np.log2(corrected_values)\n",
    "int_expr_data.to_hdf('intensity_nuc_cytoplasm.hdf','meh')"
   ]
  },
  {
   "cell_type": "markdown",
   "metadata": {},
   "source": [
    "## Prepare normalized, pose-QC data with NC ration and robust scaling\n",
    "### This is used for per well clustering and unsupervised analysis"
   ]
  },
  {
   "cell_type": "code",
   "execution_count": 9,
   "metadata": {},
   "outputs": [],
   "source": [
    "path = 'N:/HiTS Projects and Data/Personal/Jake/mcf10a'\n",
    "os.chdir(path)\n",
    "expr_data = pd.read_hdf('raw_data_selected_features/pooled_expr_data_5_features.hdf')\n",
    "metadata = pd.read_csv('proper_FFC_metadata.csv',index_col=0)\n",
    "valid_cells = metadata[(metadata.labeled_as_lost=='No')&(metadata.num_nuclei_in_mask==1)].index\n",
    "metadata = metadata.loc[valid_cells]\n",
    "expr_data = expr_data.loc[valid_cells]\n",
    "feature_metadata = pd.read_json('feature_metadata.json').transpose()\n",
    "\n",
    "# Handling missing data and negative intensity values\n",
    "expr_data.fillna(1, inplace=True) # missing data filled with 1\n",
    "# Negative intensity filled with 1\n",
    "int_cols = feature_metadata[(feature_metadata.feature_type=='mean')].index\n",
    "int_cols = [x for x in expr_data.columns if x in int_cols]\n",
    "expr_data[int_cols] = expr_data[int_cols].apply(lambda x: [1 if i<1 else i for i in x.values])\n",
    "\n",
    "# add nuclear to cytoplasm ratio\n",
    "nucs = feature_metadata[(feature_metadata.feature_type=='mean')&(feature_metadata.sublocation=='nuc')&(feature_metadata.marker!='none')].index\n",
    "cytoplasms = feature_metadata[(feature_metadata.feature_type=='mean')&(feature_metadata.sublocation=='cytoplasm')&(feature_metadata.marker!='none')].index\n",
    "nc_ratio = np.divide(expr_data[nucs], expr_data[cytoplasms])\n",
    "\n",
    "expr_data = expr_data-expr_data.min()\n",
    "nc_ratio.columns = [x.replace('mean','NC-ratio') for x in nc_ratio.columns]\n",
    "expr_data = pd.concat([expr_data,nc_ratio],axis=1)\n",
    "\n",
    "# Normlalize\n",
    "expr_data.loc[:,:] = scale(np.log2(1+expr_data))\n",
    "# check for infs\n",
    "assert(~(~np.isfinite(expr_data)).any().any())\n",
    "# check for nulls\n",
    "assert(~expr_data.isnull().any().any())\n",
    "expr_data.to_hdf('postQC_log_normed_scaled_NC_ratio.hdf','meh')"
   ]
  },
  {
   "cell_type": "markdown",
   "metadata": {},
   "source": [
    "## Check cells with negative intensity values and nulls"
   ]
  },
  {
   "cell_type": "code",
   "execution_count": 98,
   "metadata": {},
   "outputs": [
    {
     "name": "stdout",
     "output_type": "stream",
     "text": [
      "False    390717\n",
      "True         95\n",
      "dtype: int64\n"
     ]
    }
   ],
   "source": [
    "path = 'N:/HiTS Projects and Data/Personal/Jake/mcf10a'\n",
    "os.chdir(path)\n",
    "expr_data = pd.read_hdf('raw_data_selected_features/pooled_expr_data_5_features.hdf')\n",
    "metadata = pd.read_csv('proper_FFC_metadata.csv',index_col=0)\n",
    "feature_metadata = pd.read_json('feature_metadata.json').transpose()\n",
    "metadata = metadata[(metadata.labeled_as_lost=='No')&(metadata.num_nuclei_in_mask==1)]\n",
    "expr_data = expr_data.loc[metadata.index]\n",
    "int_cols = feature_metadata[(feature_metadata.feature_type=='mean')].index\n",
    "int_cols = [x for x in expr_data.columns if x in int_cols]\n",
    "cells_with_neg_values = (expr_data[int_cols]<0).any(axis=1)\n",
    "print(cells_with_neg_values.value_counts())"
   ]
  },
  {
   "cell_type": "code",
   "execution_count": 89,
   "metadata": {},
   "outputs": [
    {
     "data": {
      "text/plain": [
       "False    378728\n",
       "True      12084\n",
       "dtype: int64"
      ]
     },
     "execution_count": 89,
     "metadata": {},
     "output_type": "execute_result"
    }
   ],
   "source": [
    "# Null cells\n",
    "expr_data.isnull().any(axis=1).value_counts()"
   ]
  },
  {
   "cell_type": "code",
   "execution_count": 92,
   "metadata": {},
   "outputs": [
    {
     "data": {
      "text/plain": [
       "True     576\n",
       "False    144\n",
       "dtype: int64"
      ]
     },
     "execution_count": 92,
     "metadata": {},
     "output_type": "execute_result"
    }
   ],
   "source": [
    "# null columns\n",
    "expr_data.isnull().any().value_counts()"
   ]
  },
  {
   "cell_type": "code",
   "execution_count": 101,
   "metadata": {},
   "outputs": [
    {
     "data": {
      "text/plain": [
       "True    390812\n",
       "dtype: int64"
      ]
     },
     "execution_count": 101,
     "metadata": {},
     "output_type": "execute_result"
    }
   ],
   "source": [
    "# negative values cells\n",
    "(expr_data<0).any(axis=1).value_counts()"
   ]
  },
  {
   "cell_type": "markdown",
   "metadata": {},
   "source": [
    "## Getting biological replicates"
   ]
  },
  {
   "cell_type": "code",
   "execution_count": 17,
   "metadata": {},
   "outputs": [],
   "source": [
    "path = 'N:/HiTS Projects and Data/Personal/Jake/mcf10a'\n",
    "os.chdir(path)\n",
    "expr_data = pd.read_hdf('raw_data_selected_features/pooled_expr_data_5_features.hdf')\n",
    "metadata = pd.read_csv('proper_FFC_metadata.csv',index_col=0)\n",
    "metadata = metadata[(metadata.labeled_as_lost=='No')&(metadata.num_nuclei_in_mask==1)]\n",
    "expr_data = expr_data.loc[metadata.index]\n",
    "\n",
    "groups = metadata.ligand + '_' + metadata.time.astype(str) + '_' + metadata.replicate\n",
    "bio_rep_mean =expr_data.loc[groups.index].groupby(groups.values).mean()\n",
    "bio_rep_mean.to_csv('properFFC_biological_replicate_mean.csv')"
   ]
  },
  {
   "cell_type": "markdown",
   "metadata": {},
   "source": [
    "## Add nuclei area to metadata"
   ]
  },
  {
   "cell_type": "code",
   "execution_count": null,
   "metadata": {},
   "outputs": [
    {
     "name": "stdout",
     "output_type": "stream",
     "text": [
      "plate1\n",
      "plate2\n",
      "plate3\n",
      "plate4\n",
      "plate5\n",
      "plate6\n",
      "plate7\n",
      "plate8\n",
      "plate9\n",
      "plate10\n",
      "plate11\n",
      "plate12\n",
      "plate13\n",
      "plate14\n",
      "plate15\n",
      "plate16\n",
      "plate17\n",
      "plate18\n"
     ]
    }
   ],
   "source": [
    "os.chdir('Z:/sorger/data/IN_Cell_Analyzer_6000/Connor/Fixed MCF10 Common/20x full exp/20180905_Updated/')\n",
    "metadata = pd.read_csv('N:/HiTS Projects and Data/Personal/Jake/mcf10a/proper_FFC_metadata.csv',index_col=0)\n",
    "for plate in range(1, 19):\n",
    "    expr_data = pd.DataFrame()\n",
    "    plate_id = plate\n",
    "    plate = 'plate' + str(plate)\n",
    "    print(plate)\n",
    "    # Assumes the data was organized by plate and results are in the /analysis\n",
    "    # folder\n",
    "    path_analysis = os.path.join(plate, 'analysisCorrected')\n",
    "    txt_files = [x for x in os.listdir(path_analysis) if 'txt' in x]\n",
    "    for txt_fn in txt_files:\n",
    "        well = txt_fn.split('_')[0]\n",
    "        field = txt_fn.split('_')[1]\n",
    "        cell_name_prefix = '_'.join([str(plate_id), well, field])\n",
    "        fn = os.path.join(path_analysis, txt_fn)\n",
    "        _df = pd.read_table(fn)\n",
    "        _df.index = [cell_name_prefix + '_' +\n",
    "                     str(x) for x in range(1, 1 + _df.shape[0])]\n",
    "        metadata.loc[_df.index,'area'] = _df.none_none_none_mor_area_nuc.values\n",
    "metadata.to_csv('N:/HiTS Projects and Data/Personal/Jake/mcf10a/proper_FFC_metadata.csv')"
   ]
  }
 ],
 "metadata": {
  "kernelspec": {
   "display_name": "Python 3",
   "language": "python",
   "name": "python3"
  },
  "language_info": {
   "codemirror_mode": {
    "name": "ipython",
    "version": 3
   },
   "file_extension": ".py",
   "mimetype": "text/x-python",
   "name": "python",
   "nbconvert_exporter": "python",
   "pygments_lexer": "ipython3",
   "version": "3.6.5"
  }
 },
 "nbformat": 4,
 "nbformat_minor": 2
}
